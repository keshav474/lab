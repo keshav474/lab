{
 "cells": [
  {
   "cell_type": "code",
   "execution_count": 1,
   "id": "0aaf008f",
   "metadata": {},
   "outputs": [],
   "source": [
    "import pandas as pd\n",
    "import numpy as np\n",
    "from scipy.stats import norm\n"
   ]
  },
  {
   "cell_type": "code",
   "execution_count": 2,
   "id": "73d4e811",
   "metadata": {},
   "outputs": [],
   "source": [
    "\n",
    "# Create a DataFrame from your dataset\n",
    "data = {\n",
    "    'Cust_ID': [1, 2, 3, 4, 5, 6, 7, 8, 9, 10, 11, 12, 13, 14, 15, 16, 17, 18, 19, 20],\n",
    "    'Gender': ['M', 'M', 'M', 'M', 'M', 'M', 'F', 'F', 'F', 'F', 'M', 'M', 'M', 'M', 'F', 'F', 'F', 'F', 'F', 'F'],\n",
    "    'Income': [40000, 50000, 52500, 80000, 100000, 100000, 42000, 40000, 50000, 62000, 80000, 70000, 65000, 140000, 100000, 100000, 120000, 80000, 82000, 150000],\n",
    "    'Car_Type': ['Family', 'Sports', 'Sports', 'Sports', 'Sports', 'Sports', 'Sports', 'Sports', 'Sports', 'Luxury', 'Family', 'Family', 'Family', 'Luxury', 'Luxury', 'Luxury', 'Luxury', 'Luxury', 'Luxury', 'Luxury'],\n",
    "    'Shirt_Size': ['Small', 'Medium', 'Medium', 'Large', 'Extra Large', 'Extra Large', 'Small', 'Small', 'Medium', 'Large', 'Large', 'Extra Large', 'Medium', 'Extra Large', 'Small', 'Small', 'Medium', 'Medium', 'Medium', 'Large'],\n",
    "    'Class': ['C0', 'C0', 'C0', 'C0', 'C0', 'C0', 'C0', 'C0', 'C0', 'C0', 'C1', 'C1', 'C1', 'C1', 'C1', 'C1', 'C1', 'C1', 'C1', 'C1']\n",
    "}\n",
    "\n",
    "df = pd.DataFrame(data)\n",
    "\n"
   ]
  },
  {
   "cell_type": "code",
   "execution_count": 3,
   "id": "1bc7c646",
   "metadata": {},
   "outputs": [
    {
     "data": {
      "text/plain": [
       "(C0    10\n",
       " C1    10\n",
       " Name: Class, dtype: int64,\n",
       " C0    0.5\n",
       " C1    0.5\n",
       " Name: Class, dtype: float64)"
      ]
     },
     "execution_count": 3,
     "metadata": {},
     "output_type": "execute_result"
    }
   ],
   "source": [
    "# Calculate prior probabilities for each class\n",
    "class_counts = df['Class'].value_counts()\n",
    "class_probs = class_counts / len(df)\n",
    "class_counts, class_probs "
   ]
  },
  {
   "cell_type": "code",
   "execution_count": 4,
   "id": "a88102b2",
   "metadata": {},
   "outputs": [],
   "source": [
    "def calculate_conditional_prob(attribute, value, class_label):\n",
    "    subset = df[df['Class'] == class_label]\n",
    "    mean = np.mean(subset[attribute])\n",
    "    std_dev = np.std(subset[attribute])\n",
    "    prob = norm.pdf(value, loc=mean, scale=std_dev)\n",
    "    return prob\n"
   ]
  },
  {
   "cell_type": "code",
   "execution_count": 5,
   "id": "3776a403",
   "metadata": {},
   "outputs": [],
   "source": [
    "X1 = {\n",
    "    'Gender': 'M',\n",
    "    'Income': 130000,\n",
    "    'Car_Type': 'Luxury',\n",
    "    'Shirt_Size': 'Medium'\n",
    "}\n",
    "\n",
    "X2 = {\n",
    "    'Gender': 'F',\n",
    "    'Income': 42000,\n",
    "    'Car_Type': 'Sports',\n",
    "    'Shirt_Size': 'Small'\n",
    "}"
   ]
  },
  {
   "cell_type": "code",
   "execution_count": 13,
   "id": "6198f909",
   "metadata": {},
   "outputs": [
    {
     "data": {
      "text/plain": [
       "{'C0': 2.0640109607181044e-09, 'C1': 3.486373392192318e-07}"
      ]
     },
     "execution_count": 13,
     "metadata": {},
     "output_type": "execute_result"
    }
   ],
   "source": [
    "\n",
    "pss_X1 = {}\n",
    "for class_label in class_probs.index:\n",
    "    ps = class_probs[class_label]\n",
    "    for attribute, value in X1.items():\n",
    "        if attribute != 'Income':\n",
    "            ps *= (len(df[(df['Class'] == class_label) & (df[attribute] == value)]) + 1) / (class_counts[class_label] + len(df[attribute].unique()))\n",
    "        else:\n",
    "            ps *= calculate_conditional_prob(attribute, value, class_label)\n",
    "    pss_X1[class_label] = ps\n",
    "pss_X1"
   ]
  },
  {
   "cell_type": "code",
   "execution_count": 15,
   "id": "e2cc1dba",
   "metadata": {},
   "outputs": [
    {
     "name": "stdout",
     "output_type": "stream",
     "text": [
      "Gender\n",
      "Income\n",
      "Car_Type\n",
      "Shirt_Size\n",
      "Gender\n",
      "Income\n",
      "Car_Type\n",
      "Shirt_Size\n"
     ]
    },
    {
     "data": {
      "text/plain": [
       "{'C0': 5.002011859678653e-07, 'C1': 8.626461344540808e-09}"
      ]
     },
     "execution_count": 15,
     "metadata": {},
     "output_type": "execute_result"
    }
   ],
   "source": [
    "pss_X2 = {}\n",
    "for class_label in class_probs.index:\n",
    "    ps = class_probs[class_label]\n",
    "    for attribute, value in X2.items():\n",
    "        print(attribute)\n",
    "        if attribute != 'Income':\n",
    "            ps *= (len(df[(df['Class'] == class_label) & (df[attribute] == value)]) + 1) / (class_counts[class_label] + len(df[attribute].unique()))\n",
    "        else:\n",
    "            ps *= calculate_conditional_prob(attribute, value, class_label)\n",
    "    pss_X2[class_label] = ps\n",
    "\n",
    "pss_X2"
   ]
  },
  {
   "cell_type": "code",
   "execution_count": 8,
   "id": "88f3ff7e",
   "metadata": {},
   "outputs": [
    {
     "name": "stdout",
     "output_type": "stream",
     "text": [
      "X1: C1\n",
      "X2  (expected C0): C1\n"
     ]
    }
   ],
   "source": [
    "predicted_class_X1 = max(pss_X1, key=pss_X1.get)\n",
    "predicted_class_X2 = max(pss_X2, key=pss_X2.get)\n",
    "\n",
    "print(\"X1:\", predicted_class_X1)\n",
    "print(\"X2  (expected C0):\", predicted_class_X2)"
   ]
  }
 ],
 "metadata": {
  "kernelspec": {
   "display_name": "Python 3 (ipykernel)",
   "language": "python",
   "name": "python3"
  },
  "language_info": {
   "codemirror_mode": {
    "name": "ipython",
    "version": 3
   },
   "file_extension": ".py",
   "mimetype": "text/x-python",
   "name": "python",
   "nbconvert_exporter": "python",
   "pygments_lexer": "ipython3",
   "version": "3.9.7"
  },
  "vscode": {
   "interpreter": {
    "hash": "ad2bdc8ecc057115af97d19610ffacc2b4e99fae6737bb82f5d7fb13d2f2c186"
   }
  }
 },
 "nbformat": 4,
 "nbformat_minor": 5
}
